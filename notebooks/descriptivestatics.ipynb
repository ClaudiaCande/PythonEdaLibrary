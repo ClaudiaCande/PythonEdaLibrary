{
 "cells": [
  {
   "cell_type": "markdown",
   "metadata": {},
   "source": [
    "# Descriptive Statistics"
   ]
  },
  {
   "cell_type": "markdown",
   "metadata": {},
   "source": [
    "This script does the following:\n",
    "\n",
    "- We define two functions: descriptive_stats_numeric for continuous data and descriptive_stats_categorical for categorical data.\n",
    "- The descriptive_stats_numeric function calculates various statistics including Tukey's fences for outlier detection.\n",
    "- The descriptive_stats_categorical function calculates relevant statistics for categorical data, such as mode, unique value count, and frequencies of the most common categories.\n",
    "- We create an analyze_dataset function that applies the appropriate statistics function to each column based on its data type.\n",
    "- In the example usage, we create a sample dataset with mixed data types (numeric and categorical).\n",
    "- We apply the analyze_dataset function to our DataFrame and print the results."
   ]
  },
  {
   "cell_type": "markdown",
   "metadata": {},
   "source": [
    "Key points:\n",
    "\n",
    "- The script automatically detects whether a column is numeric or categorical using pd.api.types.is_numeric_dtype().\n",
    "- For numeric columns, it calculates statistics like mean, median, standard deviation, and uses Tukey's fences for outlier detection.\n",
    "- For categorical columns, it provides information like the number of unique values, mode, and counts of the most common categories.\n",
    "- We use dropna() when calculating statistics to handle any potential missing values."
   ]
  },
  {
   "cell_type": "markdown",
   "metadata": {},
   "source": [
    "To use this with your own dataset:\n",
    "\n",
    "Load your data into a pandas DataFrame.\n",
    "Call the analyze_dataset(df) function with your DataFrame.\n",
    "The function will return a dictionary with statistics for each column."
   ]
  },
  {
   "cell_type": "markdown",
   "metadata": {},
   "source": [
    "import pandas as pd\n",
    "import numpy as np\n",
    "from scipy import stats\n",
    "\n",
    "def descriptive_stats_numeric(data, tukey_factor=1.5):\n",
    "    \"\"\"Calculate descriptive statistics for numeric data\"\"\"\n",
    "    desc = stats.describe(data)\n",
    "    percentiles = np.percentile(data, [25, 50, 75])\n",
    "    q1, q3 = percentiles[0], percentiles[2]\n",
    "    iqr = q3 - q1\n",
    "    lower_fence = q1 - tukey_factor * iqr\n",
    "    upper_fence = q3 + tukey_factor * iqr\n",
    "    outliers = data[(data < lower_fence) | (data > upper_fence)]\n",
    "    \n",
    "    return {\n",
    "        \"n\": desc.nobs,\n",
    "        \"min\": desc.minmax[0],\n",
    "        \"max\": desc.minmax[1],\n",
    "        \"mean\": desc.mean,\n",
    "        \"std\": np.sqrt(desc.variance),\n",
    "        \"median\": percentiles[1],\n",
    "        \"q1\": q1,\n",
    "        \"q3\": q3,\n",
    "        \"iqr\": iqr,\n",
    "        \"skewness\": desc.skewness,\n",
    "        \"kurtosis\": desc.kurtosis,\n",
    "        \"lower_fence\": lower_fence,\n",
    "        \"upper_fence\": upper_fence,\n",
    "        \"n_outliers\": len(outliers)\n",
    "    }\n",
    "\n",
    "def descriptive_stats_categorical(data):\n",
    "    \"\"\"Calculate descriptive statistics for categorical data\"\"\"\n",
    "    value_counts = data.value_counts()\n",
    "    return {\n",
    "        \"n\": len(data),\n",
    "        \"n_unique\": data.nunique(),\n",
    "        \"mode\": data.mode().iloc[0],\n",
    "        \"mode_count\": value_counts.iloc[0],\n",
    "        \"second_most_common\": value_counts.index[1] if len(value_counts) > 1 else None,\n",
    "        \"second_most_common_count\": value_counts.iloc[1] if len(value_counts) > 1 else None,\n",
    "    }\n",
    "\n",
    "def analyze_dataset(df):\n",
    "    \"\"\"Analyze each column in the dataset\"\"\"\n",
    "    results = {}\n",
    "    \n",
    "    for column in df.columns:\n",
    "        if pd.api.types.is_numeric_dtype(df[column]):\n",
    "            results[column] = descriptive_stats_numeric(df[column].dropna())\n",
    "        else:\n",
    "            results[column] = descriptive_stats_categorical(df[column].dropna())\n",
    "    \n",
    "    return results\n",
    "\n"
   ]
  },
  {
   "cell_type": "code",
   "execution_count": null,
   "metadata": {
    "vscode": {
     "languageId": "plaintext"
    }
   },
   "outputs": [],
   "source": [
    "# Example usage\n",
    "if __name__ == \"__main__\":\n",
    "    # Create a sample dataset\n",
    "    data = {\n",
    "        'age': [25, 30, 35, 40, 45, 50, 55, 60, 100],\n",
    "        'income': [50000, 60000, 70000, 80000, 90000, 100000, 110000, 120000, 1000000],\n",
    "        'gender': ['M', 'F', 'M', 'F', 'M', 'F', 'M', 'F', 'M'],\n",
    "        'education': ['HS', 'BS', 'MS', 'PhD', 'BS', 'MS', 'HS', 'BS', 'MS']\n",
    "    }\n",
    "    \n",
    "    df = pd.DataFrame(data)\n",
    "    \n",
    "    # Analyze the dataset\n",
    "    results = analyze_dataset(df)\n",
    "    \n",
    "    # Print results\n",
    "    for column, stats in results.items():\n",
    "        print(f\"\\nStatistics for {column}:\")\n",
    "        for key, value in stats.items():\n",
    "            print(f\"  {key}: {value}\")"
   ]
  }
 ],
 "metadata": {
  "language_info": {
   "name": "python"
  }
 },
 "nbformat": 4,
 "nbformat_minor": 2
}
