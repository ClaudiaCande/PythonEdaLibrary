{
  "cells": [
    {
      "cell_type": "markdown",
      "metadata": {
        "id": "3qnBR0M0T7Yy"
      },
      "source": [
        "# Descriptive Statistics"
      ]
    },
    {
      "cell_type": "markdown",
      "metadata": {
        "id": "4uppl0UoT7Yz"
      },
      "source": [
        "This script does the following:\n",
        "\n",
        "- We define two functions: **descriptive_stats_numeric** for continuous data and **descriptive_stats_categorical** for categorical data.\n",
        "- The descriptive_stats_numeric function calculates various statistics including Tukey's fences for outlier detection.\n",
        "- The descriptive_stats_categorical function calculates relevant statistics for categorical data, such as mode, unique value count, and frequencies of the most common categories.\n",
        "- We create an analyze_dataset function that applies the appropriate statistics function to each column based on its data type.\n",
        "- In the example usage, we create a sample dataset with mixed data types (numeric and categorical).\n",
        "- We apply the analyze_dataset function to our DataFrame and print the results."
      ]
    },
    {
      "cell_type": "markdown",
      "metadata": {
        "id": "CR6QLO1UT7Yz"
      },
      "source": [
        "Key points:\n",
        "\n",
        "- The script automatically detects whether a column is numeric or categorical using pd.api.types.is_numeric_dtype().\n",
        "- For numeric columns, it calculates statistics like mean, median, standard deviation, and uses Tukey's fences for outlier detection.\n",
        "- For categorical columns, it provides information like the number of unique values, mode, and counts of the most common categories.\n",
        "- We use dropna() when calculating statistics to handle any potential missing values."
      ]
    },
    {
      "cell_type": "markdown",
      "metadata": {
        "id": "VSATjkOJT7Yz"
      },
      "source": [
        "To use this with your own dataset:\n",
        "\n",
        "- Load your data into a pandas DataFrame.\n",
        "- Call the analyze_dataset(df) function with your DataFrame.\n",
        "- The function will return a dictionary with statistics for each column."
      ]
    },
    {
      "cell_type": "code",
      "source": [
        "import pandas as pd\n",
        "import numpy as np\n",
        "from scipy import stats\n",
        "\n",
        "def descriptive_stats_numeric(data, tukey_factor=1.5):\n",
        "    \"\"\"Calculate descriptive statistics for numeric data\"\"\"\n",
        "    desc = stats.describe(data)\n",
        "    percentiles = np.percentile(data, [25, 50, 75])\n",
        "    q1, q3 = percentiles[0], percentiles[2]\n",
        "    iqr = q3 - q1\n",
        "    lower_fence = q1 - tukey_factor * iqr\n",
        "    upper_fence = q3 + tukey_factor * iqr\n",
        "    outliers = data[(data < lower_fence) | (data > upper_fence)]\n",
        "\n",
        "    return {\n",
        "        \"column\": data.name,\n",
        "        \"n\": desc.nobs,\n",
        "        \"min\": desc.minmax[0],\n",
        "        \"max\": desc.minmax[1],\n",
        "        \"mean\": desc.mean,\n",
        "        \"std\": np.sqrt(desc.variance),\n",
        "        \"median\": percentiles[1],\n",
        "        \"q1\": q1,\n",
        "        \"q3\": q3,\n",
        "        \"iqr\": iqr,\n",
        "        \"skewness\": desc.skewness,\n",
        "        \"kurtosis\": desc.kurtosis,\n",
        "        \"lower_fence\": lower_fence,\n",
        "        \"upper_fence\": upper_fence,\n",
        "        \"n_outliers\": len(outliers)\n",
        "    }\n",
        "\n",
        "def descriptive_stats_categorical(data):\n",
        "    \"\"\"Calculate descriptive statistics for categorical data\"\"\"\n",
        "    value_counts = data.value_counts()\n",
        "    return {\n",
        "        \"column\": data.name,\n",
        "        \"n\": len(data),\n",
        "        \"n_unique\": data.nunique(),\n",
        "        \"mode\": data.mode().iloc[0],\n",
        "        \"mode_count\": value_counts.iloc[0],\n",
        "        \"second_most_common\": value_counts.index[1] if len(value_counts) > 1 else None,\n",
        "        \"second_most_common_count\": value_counts.iloc[1] if len(value_counts) > 1 else None,\n",
        "    }\n",
        "\n",
        "def analyze_dataset_numerical(df):\n",
        "    \"\"\"Analyze numeric columns in the DataFrame\"\"\"\n",
        "    results = []\n",
        "\n",
        "    for column in df.select_dtypes(include=np.number).columns:\n",
        "        col_data = df[column].dropna()\n",
        "        stats = descriptive_stats_numeric(col_data)\n",
        "        results.append(stats)\n",
        "\n",
        "    return pd.DataFrame(results)\n",
        "\n",
        "def analyze_dataset_categorical(df):\n",
        "    \"\"\"Analyze categorical columns in the DataFrame\"\"\"\n",
        "    results = []\n",
        "\n",
        "    for column in df.select_dtypes(exclude=np.number).columns:\n",
        "        col_data = df[column].dropna()\n",
        "        stats = descriptive_stats_categorical(col_data)\n",
        "        results.append(stats)\n",
        "\n",
        "    return pd.DataFrame(results)\n",
        "\n",
        "\n",
        "\n",
        "def analyze_dataset(df):\n",
        "    \"\"\"Analyze each column in the dataset\"\"\"\n",
        "    results = {}\n",
        "\n",
        "    for column in df.columns:\n",
        "        if pd.api.types.is_numeric_dtype(df[column]):\n",
        "            results[column] = descriptive_stats_numeric(df[column].dropna())\n",
        "        else:\n",
        "            results[column] = descriptive_stats_categorical(df[column].dropna())\n",
        "\n",
        "    return results\n",
        "\n",
        "def missing_data(df):\n",
        "  \"\"\"Calculate missing data in a dataframe\"\"\"\n",
        "  df_overview = []\n",
        "  columns = df.columns\n",
        "  for i in columns :\n",
        "    types = df[i].dtypes\n",
        "    unique_data = df[i].nunique()\n",
        "\n",
        "    missing_count=df[i].isnull().sum()\n",
        "    value_count= df[i].isnull().count()\n",
        "    missing_percentage= round(missing_count/value_count*100,2)\n",
        "\n",
        "    df_overview.append([i , types , unique_data , missing_count, missing_percentage])\n",
        "\n",
        "  df_info = pd.DataFrame (df_overview)\n",
        "  df_info.columns =['name of column' , 'types' ,'unique_data' , 'missing value', \"missing percentage\"]\n",
        "  df_info.style.highlight_max(color = 'green', axis = 0)\n",
        "\n",
        "  return df_info\n",
        "\n",
        "def boxplot_df(df):\n",
        "  import matplotlib.pyplot as plt\n",
        "  import seaborn as sns\n",
        "  plt.subplots(nrows=4 , ncols=4 , figsize=(20,20))\n",
        "  plt.subplots_adjust(left=0.1, bottom=0.1, right=0.9, top=0.9, wspace=0.4, hspace=0.8)\n",
        "\n",
        "  for i in range (len(df.columns)-1):\n",
        "\n",
        "    plt.subplot(4,4,i+1)\n",
        "    sns.boxplot(df[df.columns[i]], color='aqua',flierprops = dict(markerfacecolor = '0.10', markersize = 5))\n",
        "\n",
        "def plot_correlation_matrix(df):\n",
        "  import matplotlib.pyplot as plt\n",
        "  import seaborn as sns\n",
        "  fig = plt.figure(figsize = (15, 8), facecolor='lightblue')\n",
        "  sns.heatmap(df.corr() , annot=True , fmt=\".2f\")\n",
        ""
      ],
      "metadata": {
        "id": "7dwxrpQzUSOv"
      },
      "execution_count": null,
      "outputs": []
    }
  ],
  "metadata": {
    "language_info": {
      "name": "python"
    },
    "colab": {
      "provenance": []
    },
    "kernelspec": {
      "name": "python3",
      "display_name": "Python 3"
    }
  },
  "nbformat": 4,
  "nbformat_minor": 0
}