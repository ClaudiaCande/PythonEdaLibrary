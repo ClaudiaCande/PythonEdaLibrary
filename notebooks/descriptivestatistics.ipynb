{
  "cells": [
    {
      "cell_type": "markdown",
      "metadata": {
        "id": "3qnBR0M0T7Yy"
      },
      "source": [
        "# Descriptive Statistics"
      ]
    },
    {
      "cell_type": "markdown",
      "metadata": {
        "id": "4uppl0UoT7Yz"
      },
      "source": [
        "This script does the following:\n",
        "\n",
        "- We define two functions: **descriptive_stats_numeric** for continuous data and **descriptive_stats_categorical** for categorical data.\n",
        "- The descriptive_stats_numeric function calculates various statistics including Tukey's fences for outlier detection.\n",
        "- The descriptive_stats_categorical function calculates relevant statistics for categorical data, such as mode, unique value count, and frequencies of the most common categories.\n",
        "- We create an analyze_dataset function that applies the appropriate statistics function to each column based on its data type.\n",
        "- In the example usage, we create a sample dataset with mixed data types (numeric and categorical).\n",
        "- We apply the analyze_dataset function to our DataFrame and print the results."
      ]
    },
    {
      "cell_type": "markdown",
      "metadata": {
        "id": "CR6QLO1UT7Yz"
      },
      "source": [
        "Key points:\n",
        "\n",
        "- The script automatically detects whether a column is numeric or categorical using pd.api.types.is_numeric_dtype().\n",
        "- For numeric columns, it calculates statistics like mean, median, standard deviation, and uses Tukey's fences for outlier detection.\n",
        "- For categorical columns, it provides information like the number of unique values, mode, and counts of the most common categories.\n",
        "- We use dropna() when calculating statistics to handle any potential missing values."
      ]
    },
    {
      "cell_type": "markdown",
      "metadata": {
        "id": "VSATjkOJT7Yz"
      },
      "source": [
        "To use this with your own dataset:\n",
        "\n",
        "- Load your data into a pandas DataFrame.\n",
        "- Call the analyze_dataset(df) function with your DataFrame.\n",
        "- The function will return a dictionary with statistics for each column."
      ]
    },
    {
      "cell_type": "code",
      "source": [
        "import pandas as pd\n",
        "import numpy as np\n",
        "from scipy import stats\n",
        "\n",
        "def descriptive_stats_numeric(data, tukey_factor=1.5):\n",
        "    \"\"\"Calculate descriptive statistics for numeric data\"\"\"\n",
        "    desc = stats.describe(data)\n",
        "    percentiles = np.percentile(data, [25, 50, 75])\n",
        "    q1, q3 = percentiles[0], percentiles[2]\n",
        "    iqr = q3 - q1\n",
        "    lower_fence = q1 - tukey_factor * iqr\n",
        "    upper_fence = q3 + tukey_factor * iqr\n",
        "    outliers = data[(data < lower_fence) | (data > upper_fence)]\n",
        "\n",
        "    return {\n",
        "        \"n\": desc.nobs,\n",
        "        \"min\": desc.minmax[0],\n",
        "        \"max\": desc.minmax[1],\n",
        "        \"mean\": desc.mean,\n",
        "        \"std\": np.sqrt(desc.variance),\n",
        "        \"median\": percentiles[1],\n",
        "        \"q1\": q1,\n",
        "        \"q3\": q3,\n",
        "        \"iqr\": iqr,\n",
        "        \"skewness\": desc.skewness,\n",
        "        \"kurtosis\": desc.kurtosis,\n",
        "        \"lower_fence\": lower_fence,\n",
        "        \"upper_fence\": upper_fence,\n",
        "        \"n_outliers\": len(outliers)\n",
        "    }\n",
        "\n",
        "def descriptive_stats_categorical(data):\n",
        "    \"\"\"Calculate descriptive statistics for categorical data\"\"\"\n",
        "    value_counts = data.value_counts()\n",
        "    return {\n",
        "        \"n\": len(data),\n",
        "        \"n_unique\": data.nunique(),\n",
        "        \"mode\": data.mode().iloc[0],\n",
        "        \"mode_count\": value_counts.iloc[0],\n",
        "        \"second_most_common\": value_counts.index[1] if len(value_counts) > 1 else None,\n",
        "        \"second_most_common_count\": value_counts.iloc[1] if len(value_counts) > 1 else None,\n",
        "    }\n",
        "\n",
        "def analyze_dataset(df):\n",
        "    \"\"\"Analyze each column in the dataset\"\"\"\n",
        "    results = {}\n",
        "\n",
        "    for column in df.columns:\n",
        "        if pd.api.types.is_numeric_dtype(df[column]):\n",
        "            results[column] = descriptive_stats_numeric(df[column].dropna())\n",
        "        else:\n",
        "            results[column] = descriptive_stats_categorical(df[column].dropna())\n",
        "\n",
        "    return results"
      ],
      "metadata": {
        "id": "7dwxrpQzUSOv"
      },
      "execution_count": 1,
      "outputs": []
    },
    {
      "cell_type": "code",
      "execution_count": 2,
      "metadata": {
        "vscode": {
          "languageId": "plaintext"
        },
        "id": "tESgceXaT7Y0",
        "outputId": "699663c5-9095-4ae6-f6cc-80d9ac02bd8c",
        "colab": {
          "base_uri": "https://localhost:8080/"
        }
      },
      "outputs": [
        {
          "output_type": "stream",
          "name": "stdout",
          "text": [
            "\n",
            "Statistics for age:\n",
            "  n: 9\n",
            "  min: 25\n",
            "  max: 100\n",
            "  mean: 48.888888888888886\n",
            "  std: 22.329601678290437\n",
            "  median: 45.0\n",
            "  q1: 35.0\n",
            "  q3: 55.0\n",
            "  iqr: 20.0\n",
            "  skewness: 1.3254771038292048\n",
            "  kurtosis: 1.1504508034543504\n",
            "  lower_fence: 5.0\n",
            "  upper_fence: 85.0\n",
            "  n_outliers: 1\n",
            "\n",
            "Statistics for income:\n",
            "  n: 9\n",
            "  min: 50000\n",
            "  max: 1000000\n",
            "  mean: 186666.66666666666\n",
            "  std: 305859.4448435425\n",
            "  median: 90000.0\n",
            "  q1: 70000.0\n",
            "  q3: 110000.0\n",
            "  iqr: 40000.0\n",
            "  skewness: 2.4481339371556046\n",
            "  kurtosis: 4.049501576996898\n",
            "  lower_fence: 10000.0\n",
            "  upper_fence: 170000.0\n",
            "  n_outliers: 1\n",
            "\n",
            "Statistics for gender:\n",
            "  n: 9\n",
            "  n_unique: 2\n",
            "  mode: M\n",
            "  mode_count: 5\n",
            "  second_most_common: F\n",
            "  second_most_common_count: 4\n",
            "\n",
            "Statistics for education:\n",
            "  n: 9\n",
            "  n_unique: 4\n",
            "  mode: BS\n",
            "  mode_count: 3\n",
            "  second_most_common: MS\n",
            "  second_most_common_count: 3\n"
          ]
        }
      ],
      "source": [
        "# Example usage\n",
        "if __name__ == \"__main__\":\n",
        "    # Create a sample dataset\n",
        "    data = {\n",
        "        'age': [25, 30, 35, 40, 45, 50, 55, 60, 100],\n",
        "        'income': [50000, 60000, 70000, 80000, 90000, 100000, 110000, 120000, 1000000],\n",
        "        'gender': ['M', 'F', 'M', 'F', 'M', 'F', 'M', 'F', 'M'],\n",
        "        'education': ['HS', 'BS', 'MS', 'PhD', 'BS', 'MS', 'HS', 'BS', 'MS']\n",
        "    }\n",
        "\n",
        "    df = pd.DataFrame(data)\n",
        "\n",
        "    # Analyze the dataset\n",
        "    results = analyze_dataset(df)\n",
        "\n",
        "    # Print results\n",
        "    for column, stats in results.items():\n",
        "        print(f\"\\nStatistics for {column}:\")\n",
        "        for key, value in stats.items():\n",
        "            print(f\"  {key}: {value}\")"
      ]
    },
    {
      "cell_type": "code",
      "source": [
        "print(df.describe())"
      ],
      "metadata": {
        "id": "v95kK4t2U3Qs",
        "outputId": "5a9ad674-2c79-48be-b4a5-0eab352fc329",
        "colab": {
          "base_uri": "https://localhost:8080/"
        }
      },
      "execution_count": 3,
      "outputs": [
        {
          "output_type": "stream",
          "name": "stdout",
          "text": [
            "              age          income\n",
            "count    9.000000        9.000000\n",
            "mean    48.888889   186666.666667\n",
            "std     22.329602   305859.444844\n",
            "min     25.000000    50000.000000\n",
            "25%     35.000000    70000.000000\n",
            "50%     45.000000    90000.000000\n",
            "75%     55.000000   110000.000000\n",
            "max    100.000000  1000000.000000\n"
          ]
        }
      ]
    }
  ],
  "metadata": {
    "language_info": {
      "name": "python"
    },
    "colab": {
      "provenance": []
    },
    "kernelspec": {
      "name": "python3",
      "display_name": "Python 3"
    }
  },
  "nbformat": 4,
  "nbformat_minor": 0
}